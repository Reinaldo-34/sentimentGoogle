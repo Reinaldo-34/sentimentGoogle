{
  "nbformat": 4,
  "nbformat_minor": 0,
  "metadata": {
    "colab": {
      "name": "googleReadV2.ipynb",
      "provenance": [],
      "authorship_tag": "ABX9TyM8sucw8ABDQR6WXYboEsnn",
      "include_colab_link": true
    },
    "kernelspec": {
      "name": "python3",
      "display_name": "Python 3"
    },
    "language_info": {
      "name": "python"
    }
  },
  "cells": [
    {
      "cell_type": "markdown",
      "metadata": {
        "id": "view-in-github",
        "colab_type": "text"
      },
      "source": [
        "<a href=\"https://colab.research.google.com/github/Reinaldo-34/sentimentGoogle/blob/main/googleReadV2.ipynb\" target=\"_parent\"><img src=\"https://colab.research.google.com/assets/colab-badge.svg\" alt=\"Open In Colab\"/></a>"
      ]
    },
    {
      "cell_type": "code",
      "execution_count": null,
      "metadata": {
        "colab": {
          "base_uri": "https://localhost:8080/"
        },
        "id": "nsRyBDy6ApJ-",
        "outputId": "c9dba3d7-0319-489a-e62a-332c8e6710b0"
      },
      "outputs": [
        {
          "output_type": "stream",
          "name": "stdout",
          "text": [
            "Mounted at /content/drive\n"
          ]
        }
      ],
      "source": [
        "from google.colab import drive\n",
        "drive.mount('/content/drive')"
      ]
    },
    {
      "cell_type": "code",
      "source": [
        "## import of all relevant libraries\n",
        "import numpy as np\n",
        "import pandas as pd\n",
        "import matplotlib.pyplot as plt\n",
        "\n",
        "!pip install vaderSentiment\n",
        "from vaderSentiment.vaderSentiment import SentimentIntensityAnalyzer\n",
        "\n",
        "from google.colab import auth\n",
        "auth.authenticate_user()\n",
        "\n",
        "import gspread\n",
        "from oauth2client.client import GoogleCredentials\n",
        "gc = gspread.authorize(GoogleCredentials.get_application_default())"
      ],
      "metadata": {
        "id": "89TT4b7CCmIU"
      },
      "execution_count": null,
      "outputs": []
    },
    {
      "cell_type": "code",
      "source": [
        "## open the google sheet which has the data\n",
        "wb = gc.open_by_url('https://docs.google.com/spreadsheets/d/1_vROEMAQ29haCkI1yowbZh1h5qJfFWctnOqhxHneytE/edit#gid=0')\n",
        "\n",
        "import nltk \n",
        "nltk.download('punkt')"
      ],
      "metadata": {
        "id": "iEqz43VfDa3R",
        "colab": {
          "base_uri": "https://localhost:8080/"
        },
        "outputId": "576f7e6a-3f3a-4432-9a41-9db52d6e4efa"
      },
      "execution_count": 4,
      "outputs": [
        {
          "output_type": "stream",
          "name": "stdout",
          "text": [
            "[nltk_data] Downloading package punkt to /root/nltk_data...\n",
            "[nltk_data]   Unzipping tokenizers/punkt.zip.\n"
          ]
        },
        {
          "output_type": "execute_result",
          "data": {
            "text/plain": [
              "True"
            ]
          },
          "metadata": {},
          "execution_count": 4
        }
      ]
    },
    {
      "cell_type": "code",
      "source": [
        "sheet = wb.worksheet('Sheet1')\n",
        "data = sheet.get_all_values()\n",
        "df = pd.DataFrame(data)\n",
        "df.columns = df.iloc[0]\n",
        "df = df.iloc[1:]\n",
        "reviewList = list(df['Review text'])"
      ],
      "metadata": {
        "id": "fSWdC8JWFlum"
      },
      "execution_count": 5,
      "outputs": []
    },
    {
      "cell_type": "code",
      "source": [
        "## iterate through all items in ReviewList and tokenize\n",
        "tokens = []\n",
        "\n",
        "for i in range(len(reviewList)):\n",
        "  x = nltk.word_tokenize(reviewList[i])\n",
        "  tokens.append(x)"
      ],
      "metadata": {
        "id": "2zacqMd512If"
      },
      "execution_count": 6,
      "outputs": []
    },
    {
      "cell_type": "code",
      "source": [
        "## VaderSentiment analyzer - assign a sentiment score to each review\n",
        "score = np.transpose([]) \n",
        "analyzer = SentimentIntensityAnalyzer()\n",
        "for sentence in reviewList:\n",
        "  vs = analyzer.polarity_scores(sentence)\n",
        "  score = np.append(score,vs['compound'])\n",
        "##print(\"{:-<65} {}\".format(sentence, str(vs)))\n",
        "\n",
        "df['Score'] = score\n",
        "\n",
        "print(score)\n",
        "score.size "
      ],
      "metadata": {
        "id": "ATXPTs2_ZalW",
        "colab": {
          "base_uri": "https://localhost:8080/"
        },
        "outputId": "53ee0096-46aa-4a46-afef-1b30e433b220"
      },
      "execution_count": 7,
      "outputs": [
        {
          "output_type": "stream",
          "name": "stdout",
          "text": [
            "[ 0.9598  0.981   0.9856  0.5413  0.854  -0.9044  0.7712  0.8622  0.9611\n",
            "  0.9516  0.7841  0.8955  0.9782  0.4408  0.4927  0.9523  0.9741  0.659\n",
            "  0.9488  0.8261  0.9439  0.4025  0.7351  0.9694  0.9677  0.8221  0.8817\n",
            "  0.9775  0.2152  0.9866  0.9022  0.9035  0.9966  0.8797  0.9416  0.9183\n",
            " -0.3766  0.9501  0.9022  0.9651  0.836   0.9571 -0.9514  0.6124  0.984\n",
            "  0.8999  0.886   0.9825  0.946   0.9413  0.9846  0.9545  0.9022 -0.9125\n",
            "  0.862   0.6778  0.8517 -0.2263  0.0258  0.4754  0.5719  0.6705  0.8221]\n"
          ]
        },
        {
          "output_type": "execute_result",
          "data": {
            "text/plain": [
              "63"
            ]
          },
          "metadata": {},
          "execution_count": 7
        }
      ]
    },
    {
      "cell_type": "code",
      "source": [
        "## classifying compound scores into positive, negative or neutral\n",
        "def get_class(score):\n",
        "  if score >= 0.5:\n",
        "    return 'Positive'\n",
        "  elif score <= -0.5:\n",
        "    return 'Negative'\n",
        "  else:\n",
        "    return 'Neutral'\n",
        "\n",
        "## making the sentiment scores into its own dataframe column\n",
        "df['Sentiment'] = df['Score'].apply(get_class)"
      ],
      "metadata": {
        "id": "LgqfGzZkcDiG"
      },
      "execution_count": 8,
      "outputs": []
    },
    {
      "cell_type": "code",
      "source": [
        "## populating a list of consultants\n",
        "consultant = ['Emmanuel', 'Jack', 'Kevin', 'Lisa', 'Mohit', 'Rebekah', 'Reneh', 'Rossetta', 'Sophie', 'Terry']\n",
        "\n",
        "## creating an empty list \n",
        "owner = []\n",
        "for k in range(63):     ##iterate through the entire dataset\n",
        "  x = 0\n",
        "  for i in tokens[k]:   ##iterate through all tokens\n",
        "    for j in consultant: ##iterate through all consultants\n",
        "      if i == j:        ##find matching consultant items in the tokens\n",
        "        x = x+1 \n",
        "        y = j\n",
        "  if x > 0:\n",
        "    owner.append(y)\n",
        "  else:\n",
        "    owner.append(\"STPG\")\n",
        "\n",
        "df['Owner'] = owner"
      ],
      "metadata": {
        "id": "DMA_8JfljnwQ"
      },
      "execution_count": 9,
      "outputs": []
    },
    {
      "cell_type": "code",
      "source": [
        "#create new dataframe schema which includes the columns we want\n",
        "newest_df = {\n",
        "  ##  'Review Text' : df['Review text'].astype(str),\n",
        "    'Rating' : df['Rating'].astype(int),\n",
        "    'Score' : df['Score'].astype(float),\n",
        "    'Sentiment' : df['Sentiment'].astype(str),\n",
        "    'Owner' : df['Owner'].astype(str)\n",
        "}\n",
        "\n",
        "newDataFrame = pd.DataFrame(newest_df)"
      ],
      "metadata": {
        "id": "hUMqfsL9rIdM"
      },
      "execution_count": 10,
      "outputs": []
    },
    {
      "cell_type": "code",
      "source": [
        "print(newDataFrame)"
      ],
      "metadata": {
        "colab": {
          "base_uri": "https://localhost:8080/"
        },
        "id": "f_V4yjVNsPsl",
        "outputId": "4585b9d2-2e87-4ede-a81b-0093a048de01"
      },
      "execution_count": 11,
      "outputs": [
        {
          "output_type": "stream",
          "name": "stdout",
          "text": [
            "    Rating   Score Sentiment     Owner\n",
            "1        5  0.9598  Positive  Emmanuel\n",
            "2        5  0.9810  Positive  Emmanuel\n",
            "3        5  0.9856  Positive      STPG\n",
            "4        5  0.5413  Positive  Emmanuel\n",
            "5        5  0.8540  Positive  Emmanuel\n",
            "..     ...     ...       ...       ...\n",
            "59       1  0.0258   Neutral      STPG\n",
            "60       5  0.4754   Neutral      STPG\n",
            "61       5  0.5719  Positive      STPG\n",
            "62       5  0.6705  Positive  Emmanuel\n",
            "63       5  0.8221  Positive      STPG\n",
            "\n",
            "[63 rows x 4 columns]\n"
          ]
        }
      ]
    }
  ]
}