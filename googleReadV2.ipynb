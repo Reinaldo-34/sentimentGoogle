{
  "nbformat": 4,
  "nbformat_minor": 0,
  "metadata": {
    "colab": {
      "name": "googleReadV2.ipynb",
      "provenance": [],
      "authorship_tag": "ABX9TyO97shnTjlWgDAslKRJD8QU",
      "include_colab_link": true
    },
    "kernelspec": {
      "name": "python3",
      "display_name": "Python 3"
    },
    "language_info": {
      "name": "python"
    }
  },
  "cells": [
    {
      "cell_type": "markdown",
      "metadata": {
        "id": "view-in-github",
        "colab_type": "text"
      },
      "source": [
        "<a href=\"https://colab.research.google.com/github/Reinaldo-34/sentimentGoogle/blob/main/googleReadV2.ipynb\" target=\"_parent\"><img src=\"https://colab.research.google.com/assets/colab-badge.svg\" alt=\"Open In Colab\"/></a>"
      ]
    },
    {
      "cell_type": "code",
      "execution_count": null,
      "metadata": {
        "colab": {
          "base_uri": "https://localhost:8080/"
        },
        "id": "nsRyBDy6ApJ-",
        "outputId": "c9dba3d7-0319-489a-e62a-332c8e6710b0"
      },
      "outputs": [
        {
          "output_type": "stream",
          "name": "stdout",
          "text": [
            "Mounted at /content/drive\n"
          ]
        }
      ],
      "source": [
        "from google.colab import drive\n",
        "drive.mount('/content/drive')"
      ]
    },
    {
      "cell_type": "code",
      "source": [
        "import pandas as pd\n",
        "import matplotlib.pyplot as plt\n",
        "\n",
        "from google.colab import auth\n",
        "auth.authenticate_user()\n",
        "\n",
        "import gspread\n",
        "from oauth2client.client import GoogleCredentials\n",
        "gc = gspread.authorize(GoogleCredentials.get_application_default())"
      ],
      "metadata": {
        "id": "89TT4b7CCmIU"
      },
      "execution_count": null,
      "outputs": []
    },
    {
      "cell_type": "code",
      "source": [
        "wb = gc.open_by_url('https://docs.google.com/spreadsheets/d/1_vROEMAQ29haCkI1yowbZh1h5qJfFWctnOqhxHneytE/edit#gid=0')\n",
        "\n",
        "import nltk \n",
        "nltk.download('punkt')"
      ],
      "metadata": {
        "id": "iEqz43VfDa3R",
        "colab": {
          "base_uri": "https://localhost:8080/"
        },
        "outputId": "5288f4b9-11ca-48a0-d05a-aaa82e5d5d67"
      },
      "execution_count": null,
      "outputs": [
        {
          "output_type": "stream",
          "name": "stdout",
          "text": [
            "[nltk_data] Downloading package punkt to /root/nltk_data...\n",
            "[nltk_data]   Unzipping tokenizers/punkt.zip.\n"
          ]
        },
        {
          "output_type": "execute_result",
          "data": {
            "text/plain": [
              "True"
            ]
          },
          "metadata": {},
          "execution_count": 4
        }
      ]
    },
    {
      "cell_type": "code",
      "source": [
        "sheet = wb.worksheet('Sheet1')\n",
        "data = sheet.get_all_values()\n",
        "df = pd.DataFrame(data)\n",
        "df.columns = df.iloc[0]\n",
        "df = df.iloc[1:]"
      ],
      "metadata": {
        "id": "fSWdC8JWFlum"
      },
      "execution_count": null,
      "outputs": []
    },
    {
      "cell_type": "code",
      "source": [
        "reviewList = list(df['Review text'])\n"
      ],
      "metadata": {
        "id": "RQ6dVOxwGGYF"
      },
      "execution_count": null,
      "outputs": []
    },
    {
      "cell_type": "code",
      "source": [
        "print(reviewList[1])\n",
        "print(range(len(reviewList)))"
      ],
      "metadata": {
        "colab": {
          "base_uri": "https://localhost:8080/"
        },
        "id": "zOAggaftz-kR",
        "outputId": "4f2b0787-c94e-4d7f-e155-07df3251b436"
      },
      "execution_count": 70,
      "outputs": [
        {
          "output_type": "stream",
          "name": "stdout",
          "text": [
            "I only have the highest praise for Emmanuel from St Trinity Property Group. His level of professionalism and client service is second to none! I first met Emmanuel with a very clear view of the apartments I wanted to inspect for purchase consideration. However, Emmanuel still took the time to understand my needs and then suggested 3 other apartments I should also look at, in addition to the apartments I initially wanted to view.  After viewing all 5 apartments in June, I proceeded to purchase one of the other apartments Emmanuel had suggested; which was actually slightly cheaper and a far better fit for my needs. When it came to contract exchange I wanted a slight contract variation which was initially declined, yet with Emmanuel’s timely assistance was ultimately agreed to. This clearly evidences the fact Emmanuel always has his client’s best interests in mind. I was extremely lucky to have come across Emmanuel and it is without any hesitation that I would recommend Emmanuel to any prospective purchaser.\n",
            "range(0, 63)\n"
          ]
        }
      ]
    },
    {
      "cell_type": "code",
      "source": [
        "## iterate through all items in ReviewList and tokenize\n",
        "tokens = []\n",
        "\n",
        "for i in range(len(reviewList)):\n",
        "  x = nltk.word_tokenize(reviewList[i])\n",
        "  tokens.append(x)\n",
        "\n"
      ],
      "metadata": {
        "id": "2zacqMd512If"
      },
      "execution_count": 51,
      "outputs": []
    },
    {
      "cell_type": "code",
      "source": [
        "pip install vaderSentiment"
      ],
      "metadata": {
        "id": "OKbSoPX9PXmS"
      },
      "execution_count": null,
      "outputs": []
    },
    {
      "cell_type": "code",
      "source": [
        "from vaderSentiment.vaderSentiment import SentimentIntensityAnalyzer"
      ],
      "metadata": {
        "id": "rfiZIQYaZI2s"
      },
      "execution_count": null,
      "outputs": []
    },
    {
      "cell_type": "code",
      "source": [
        "import numpy as np"
      ],
      "metadata": {
        "id": "f1zuruLDo0Sy"
      },
      "execution_count": null,
      "outputs": []
    },
    {
      "cell_type": "code",
      "source": [
        "score = np.transpose([]) \n",
        "\n",
        "analyzer = SentimentIntensityAnalyzer()\n",
        "for sentence in reviewList:\n",
        "  vs = analyzer.polarity_scores(sentence)\n",
        "  score = np.append(score,vs['compound'])\n",
        "##print(\"{:-<65} {}\".format(sentence, str(vs)))\n",
        "\n",
        "df['Score'] = score\n",
        " "
      ],
      "metadata": {
        "id": "ATXPTs2_ZalW"
      },
      "execution_count": 120,
      "outputs": []
    },
    {
      "cell_type": "code",
      "source": [
        "print(score)\n",
        "score.size"
      ],
      "metadata": {
        "colab": {
          "base_uri": "https://localhost:8080/"
        },
        "id": "mxqvMp3_qArb",
        "outputId": "5eecea84-a38d-485f-f480-65540265a1d5"
      },
      "execution_count": null,
      "outputs": [
        {
          "output_type": "stream",
          "name": "stdout",
          "text": [
            "[ 0.9598  0.981   0.9856  0.5413  0.854  -0.9044  0.7712  0.8622  0.9611\n",
            "  0.9516  0.7841  0.8955  0.9782  0.4408  0.4927  0.9523  0.9741  0.659\n",
            "  0.9488  0.8261  0.9439  0.4025  0.7351  0.9694  0.9677  0.8221  0.8817\n",
            "  0.9775  0.2152  0.9866  0.9022  0.9035  0.9966  0.8797  0.9416  0.9183\n",
            " -0.3766  0.9501  0.9022  0.9651  0.836   0.9571 -0.9514  0.6124  0.984\n",
            "  0.8999  0.886   0.9825  0.946   0.9413  0.9846  0.9545  0.9022 -0.9125\n",
            "  0.862   0.6778  0.8517 -0.2263  0.0258  0.4754  0.5719  0.6705  0.8221]\n"
          ]
        },
        {
          "output_type": "execute_result",
          "data": {
            "text/plain": [
              "63"
            ]
          },
          "metadata": {},
          "execution_count": 15
        }
      ]
    },
    {
      "cell_type": "code",
      "source": [
        "## classifying compound scores into positive, negative or neutral\n",
        "def get_class(score):\n",
        "  if score >= 0.5:\n",
        "    return 'Positive'\n",
        "  elif score <= -0.5:\n",
        "    return 'Negative'\n",
        "  else:\n",
        "    return 'Neutral'\n",
        "\n",
        "## transforming\n",
        "df['Sentiment'] = df['Score'].apply(get_class)"
      ],
      "metadata": {
        "id": "LgqfGzZkcDiG"
      },
      "execution_count": 127,
      "outputs": []
    },
    {
      "cell_type": "code",
      "source": [
        "consultant = ['Emmanuel', 'Jack', 'Kevin', 'Lisa', 'Mohit', 'Rebekah', 'Reneh', 'Rossetta', 'Sophie', 'Terry']\n"
      ],
      "metadata": {
        "id": "KloLmdeWkDwJ"
      },
      "execution_count": 107,
      "outputs": []
    },
    {
      "cell_type": "code",
      "source": [
        "owner = []\n",
        "for k in range(63):\n",
        "  x = 0\n",
        "  for i in tokens[k]:\n",
        "    for j in consultant:\n",
        "      if i == j:\n",
        "        x = x+1 \n",
        "        y = j\n",
        "  if x > 0:\n",
        "    owner.append(y)\n",
        "  else:\n",
        "    owner.append(\"STPG\")\n",
        "\n",
        "df['Owner'] = owner"
      ],
      "metadata": {
        "id": "DMA_8JfljnwQ"
      },
      "execution_count": 116,
      "outputs": []
    },
    {
      "cell_type": "code",
      "source": [
        "print(owner)"
      ],
      "metadata": {
        "id": "EAmKjrMMqlOR"
      },
      "execution_count": null,
      "outputs": []
    },
    {
      "cell_type": "code",
      "source": [
        "newest_df = {\n",
        "   ## 'Review Text' : df['Review text'].astype(str),\n",
        "    'Rating' : df['Rating'].astype(int),\n",
        "    'Score' : df['Score'].astype(float),\n",
        "    'Owner' : df['Owner'].astype(str),\n",
        "    'Sentiment' : df['Sentiment'].astype(str)\n",
        "}\n",
        "\n",
        "newDataFrame = pd.DataFrame(newest_df)"
      ],
      "metadata": {
        "id": "hUMqfsL9rIdM"
      },
      "execution_count": 130,
      "outputs": []
    },
    {
      "cell_type": "code",
      "source": [
        "print(newDataFrame)"
      ],
      "metadata": {
        "colab": {
          "base_uri": "https://localhost:8080/"
        },
        "id": "f_V4yjVNsPsl",
        "outputId": "f11c7dad-b68a-44db-d7dc-92ef7066d115"
      },
      "execution_count": 131,
      "outputs": [
        {
          "output_type": "stream",
          "name": "stdout",
          "text": [
            "    Rating   Score     Owner Sentiment\n",
            "1        5  0.9598  Emmanuel  Positive\n",
            "2        5  0.9810  Emmanuel  Positive\n",
            "3        5  0.9856      STPG  Positive\n",
            "4        5  0.5413  Emmanuel  Positive\n",
            "5        5  0.8540  Emmanuel  Positive\n",
            "..     ...     ...       ...       ...\n",
            "59       1  0.0258      STPG   Neutral\n",
            "60       5  0.4754      STPG   Neutral\n",
            "61       5  0.5719      STPG  Positive\n",
            "62       5  0.6705  Emmanuel  Positive\n",
            "63       5  0.8221      STPG  Positive\n",
            "\n",
            "[63 rows x 4 columns]\n"
          ]
        }
      ]
    }
  ]
}