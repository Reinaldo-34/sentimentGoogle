{
  "nbformat": 4,
  "nbformat_minor": 0,
  "metadata": {
    "colab": {
      "name": "googleReadV2.ipynb",
      "provenance": [],
      "authorship_tag": "ABX9TyNEX2us7eesjoKR3JANBuyy",
      "include_colab_link": true
    },
    "kernelspec": {
      "name": "python3",
      "display_name": "Python 3"
    },
    "language_info": {
      "name": "python"
    }
  },
  "cells": [
    {
      "cell_type": "markdown",
      "metadata": {
        "id": "view-in-github",
        "colab_type": "text"
      },
      "source": [
        "<a href=\"https://colab.research.google.com/github/Reinaldo-34/sentimentGoogle/blob/main/googleReadV2.ipynb\" target=\"_parent\"><img src=\"https://colab.research.google.com/assets/colab-badge.svg\" alt=\"Open In Colab\"/></a>"
      ]
    },
    {
      "cell_type": "code",
      "execution_count": null,
      "metadata": {
        "colab": {
          "base_uri": "https://localhost:8080/"
        },
        "id": "nsRyBDy6ApJ-",
        "outputId": "c9dba3d7-0319-489a-e62a-332c8e6710b0"
      },
      "outputs": [
        {
          "output_type": "stream",
          "name": "stdout",
          "text": [
            "Mounted at /content/drive\n"
          ]
        }
      ],
      "source": [
        "from google.colab import drive\n",
        "drive.mount('/content/drive')"
      ]
    },
    {
      "cell_type": "code",
      "source": [
        "import pandas as pd\n",
        "import matplotlib.pyplot as plt\n",
        "\n",
        "from google.colab import auth\n",
        "auth.authenticate_user()\n",
        "\n",
        "import gspread\n",
        "from oauth2client.client import GoogleCredentials\n",
        "gc = gspread.authorize(GoogleCredentials.get_application_default())"
      ],
      "metadata": {
        "id": "89TT4b7CCmIU"
      },
      "execution_count": 86,
      "outputs": []
    },
    {
      "cell_type": "code",
      "source": [
        "wb = gc.open_by_url('https://docs.google.com/spreadsheets/d/1_vROEMAQ29haCkI1yowbZh1h5qJfFWctnOqhxHneytE/edit#gid=0')\n",
        "\n",
        "import nltk \n",
        "nltk.download('punkt')"
      ],
      "metadata": {
        "id": "iEqz43VfDa3R",
        "colab": {
          "base_uri": "https://localhost:8080/"
        },
        "outputId": "7daca42b-701c-4a4a-c8ae-7bedeb494834"
      },
      "execution_count": 87,
      "outputs": [
        {
          "output_type": "stream",
          "name": "stdout",
          "text": [
            "[nltk_data] Downloading package punkt to /root/nltk_data...\n",
            "[nltk_data]   Package punkt is already up-to-date!\n"
          ]
        },
        {
          "output_type": "execute_result",
          "data": {
            "text/plain": [
              "True"
            ]
          },
          "metadata": {},
          "execution_count": 87
        }
      ]
    },
    {
      "cell_type": "code",
      "source": [
        "sheet = wb.worksheet('Sheet1')\n",
        "data = sheet.get_all_values()\n",
        "df = pd.DataFrame(data)\n",
        "df.columns = df.iloc[0]\n",
        "df = df.iloc[1:]"
      ],
      "metadata": {
        "id": "fSWdC8JWFlum"
      },
      "execution_count": 88,
      "outputs": []
    },
    {
      "cell_type": "code",
      "source": [
        "reviewList = list(df['Review text'])\n"
      ],
      "metadata": {
        "id": "RQ6dVOxwGGYF"
      },
      "execution_count": 89,
      "outputs": []
    },
    {
      "cell_type": "code",
      "source": [
        "print(reviewList[0])\n",
        "print(range(len(reviewList)))"
      ],
      "metadata": {
        "colab": {
          "base_uri": "https://localhost:8080/"
        },
        "id": "zOAggaftz-kR",
        "outputId": "cb6a600c-8739-4eaf-b6e3-f99bf06f98d2"
      },
      "execution_count": 107,
      "outputs": [
        {
          "output_type": "stream",
          "name": "stdout",
          "text": [
            "Emmanuel was extremely helpful and supportive throughout the entire property purchase process. As a first home buyer, there were many things I was unaware of and Emmanuel took the time to explain how it all works and how to assess properties to truly make the most of my investment. Emmanuel even went out of his way to help me investigate properties beyond the ones I originally contacted him about so I could feel confident in my decision - he was patient, supportive and empathetic from initial contact to exchange. Thank you!\n",
            "range(0, 63)\n"
          ]
        }
      ]
    },
    {
      "cell_type": "code",
      "source": [
        "## iterate through all items in ReviewList and tokenize\n",
        "tokens = []\n",
        "\n",
        "for i in range(len(reviewList)):\n",
        "  x = nltk.word_tokenize(reviewList[i])\n",
        "  tokens.append(x)\n",
        "\n"
      ],
      "metadata": {
        "id": "2zacqMd512If"
      },
      "execution_count": 123,
      "outputs": []
    },
    {
      "cell_type": "code",
      "source": [
        "pip install vaderSentiment"
      ],
      "metadata": {
        "colab": {
          "base_uri": "https://localhost:8080/"
        },
        "id": "OKbSoPX9PXmS",
        "outputId": "edf78e55-cf73-4d2d-a63b-de0550cf9675"
      },
      "execution_count": 113,
      "outputs": [
        {
          "output_type": "stream",
          "name": "stdout",
          "text": [
            "Requirement already satisfied: vaderSentiment in /usr/local/lib/python3.7/dist-packages (3.3.2)\n",
            "Requirement already satisfied: requests in /usr/local/lib/python3.7/dist-packages (from vaderSentiment) (2.23.0)\n",
            "Requirement already satisfied: chardet<4,>=3.0.2 in /usr/local/lib/python3.7/dist-packages (from requests->vaderSentiment) (3.0.4)\n",
            "Requirement already satisfied: certifi>=2017.4.17 in /usr/local/lib/python3.7/dist-packages (from requests->vaderSentiment) (2021.10.8)\n",
            "Requirement already satisfied: idna<3,>=2.5 in /usr/local/lib/python3.7/dist-packages (from requests->vaderSentiment) (2.10)\n",
            "Requirement already satisfied: urllib3!=1.25.0,!=1.25.1,<1.26,>=1.21.1 in /usr/local/lib/python3.7/dist-packages (from requests->vaderSentiment) (1.24.3)\n"
          ]
        }
      ]
    },
    {
      "cell_type": "code",
      "source": [
        "from vaderSentiment.vaderSentiment import SentimentIntensityAnalyzer"
      ],
      "metadata": {
        "id": "rfiZIQYaZI2s"
      },
      "execution_count": 115,
      "outputs": []
    },
    {
      "cell_type": "code",
      "source": [
        "analyzer = SentimentIntensityAnalyzer()\n",
        "for sentence in reviewList:\n",
        "  vs = analyzer.polarity_scores(sentence)\n",
        "  print(\"{:-<65} {}\".format(sentence, str(vs)))"
      ],
      "metadata": {
        "id": "ATXPTs2_ZalW"
      },
      "execution_count": null,
      "outputs": []
    }
  ]
}